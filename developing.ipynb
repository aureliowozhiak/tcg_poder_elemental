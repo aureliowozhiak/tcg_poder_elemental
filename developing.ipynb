{
 "cells": [
  {
   "cell_type": "code",
   "execution_count": 4,
   "metadata": {},
   "outputs": [],
   "source": [
    "from src.model.field import modelField\n",
    "from src.view.field import viewField\n",
    "modelField = modelField()\n",
    "viewField = viewField()"
   ]
  },
  {
   "cell_type": "code",
   "execution_count": 5,
   "metadata": {},
   "outputs": [],
   "source": [
    "field = modelField.return_all_field_parameters()"
   ]
  },
  {
   "cell_type": "code",
   "execution_count": 6,
   "metadata": {},
   "outputs": [
    {
     "data": {
      "text/plain": [
       "{'side_a': {'deck_zone': [],\n",
       "  'discard_zone': [],\n",
       "  'boost_zone': [],\n",
       "  'creatures_zone': [],\n",
       "  'magic_zone': [],\n",
       "  'hand': []},\n",
       " 'side_b': {'deck_zone': [],\n",
       "  'discard_zone': [],\n",
       "  'boost_zone': [],\n",
       "  'creatures_zone': [],\n",
       "  'magic_zone': [],\n",
       "  'hand': []}}"
      ]
     },
     "execution_count": 6,
     "metadata": {},
     "output_type": "execute_result"
    }
   ],
   "source": [
    "field"
   ]
  },
  {
   "cell_type": "code",
   "execution_count": 38,
   "metadata": {},
   "outputs": [
    {
     "name": "stdout",
     "output_type": "stream",
     "text": [
      "side_a             \n",
      "deck_zone: 38 remaining cards             \n",
      "discard_zone: ['']             \n",
      "boost_zone: ['manipulador aquatico']             \n",
      "creatures_zone: ['boto-cor-de-rosa', '', '']             \n",
      "magic_zone: ['ressucite uma criatura', '', '']\n"
     ]
    }
   ],
   "source": [
    "print(viewField.show_field(field = field, side = 'side_a'))"
   ]
  },
  {
   "cell_type": "code",
   "execution_count": 35,
   "metadata": {},
   "outputs": [
    {
     "name": "stdout",
     "output_type": "stream",
     "text": [
      "side_b             \n",
      "deck_zone: 1 remaining cards             \n",
      "discard_zone: ['']             \n",
      "boost_zone: ['']             \n",
      "creatures_zone: ['', '', '']             \n",
      "magic_zone: ['', '', '']\n"
     ]
    }
   ],
   "source": [
    "print(viewField.show_field(field = field, side = 'side_b'))"
   ]
  },
  {
   "cell_type": "code",
   "execution_count": 8,
   "metadata": {},
   "outputs": [],
   "source": [
    "modelField.put_card_in_field(side = 'side_a', zone = 'creatures_zone', card_id = \"boto-cor-de-rosa\")\n",
    "modelField.put_card_in_field(side = 'side_a', zone = 'boost_zone', card_id = \"manipulador aquatico\")\n",
    "modelField.put_card_in_field(side = 'side_a', zone = 'magic_zone', card_id = \"ressucite uma criatura\")"
   ]
  },
  {
   "cell_type": "code",
   "execution_count": null,
   "metadata": {},
   "outputs": [],
   "source": []
  },
  {
   "cell_type": "code",
   "execution_count": 50,
   "metadata": {},
   "outputs": [
    {
     "name": "stdout",
     "output_type": "stream",
     "text": [
      "side_a             \n",
      "deck_zone: 37 remaining cards             \n",
      "discard_zone: ['']             \n",
      "boost_zone: ['manipulador aquatico']             \n",
      "creatures_zone: ['boto-cor-de-lirios', '', '']             \n",
      "magic_zone: ['ressucite uma criatura', '', '']\n"
     ]
    }
   ],
   "source": [
    "card_name = field['side_a']['deck_zone'].pop()\n",
    "modelField.put_card_in_field(side = 'side_a', zone = 'hand_zone', card_id = card_name)\n",
    "print(viewField.show_field(field = field, side = 'side_a'))"
   ]
  },
  {
   "cell_type": "code",
   "execution_count": 49,
   "metadata": {},
   "outputs": [
    {
     "name": "stdout",
     "output_type": "stream",
     "text": [
      "side_a             \n",
      "deck_zone: 38 remaining cards             \n",
      "discard_zone: ['']             \n",
      "boost_zone: ['manipulador aquatico']             \n",
      "creatures_zone: ['', '', '']             \n",
      "magic_zone: ['ressucite uma criatura', '', '']\n"
     ]
    }
   ],
   "source": [
    "print(viewField.show_field(field = field, side = 'side_a'))"
   ]
  },
  {
   "cell_type": "code",
   "execution_count": 15,
   "metadata": {},
   "outputs": [],
   "source": [
    "from src.model.execute_sql_queries import ExcuteSqlQueries\n",
    "excuteSql = ExcuteSqlQueries()\n",
    "all_creature_cards = excuteSql.execute_sql_query(\"select_all_creatures\")\n"
   ]
  },
  {
   "cell_type": "code",
   "execution_count": 16,
   "metadata": {},
   "outputs": [],
   "source": [
    "def find_card_by_name(card_name):\n",
    "    for card in all_creature_cards[0]:\n",
    "        if card[0] == card_name:\n",
    "            return card"
   ]
  },
  {
   "cell_type": "code",
   "execution_count": 20,
   "metadata": {},
   "outputs": [
    {
     "data": {
      "text/plain": [
       "('Zumbi Bebê',\n",
       " 'Trevas',\n",
       " 'Nível 0',\n",
       " 'Normal, Zumbi',\n",
       " 'Pequeno, Veloz e Forte',\n",
       " '0',\n",
       " 55,\n",
       " 20)"
      ]
     },
     "execution_count": 20,
     "metadata": {},
     "output_type": "execute_result"
    }
   ],
   "source": [
    "find_card_by_name(\"Zumbi Bebê\")"
   ]
  }
 ],
 "metadata": {
  "kernelspec": {
   "display_name": "Python 3.10.8 64-bit (microsoft store)",
   "language": "python",
   "name": "python3"
  },
  "language_info": {
   "codemirror_mode": {
    "name": "ipython",
    "version": 3
   },
   "file_extension": ".py",
   "mimetype": "text/x-python",
   "name": "python",
   "nbconvert_exporter": "python",
   "pygments_lexer": "ipython3",
   "version": "3.10.8"
  },
  "orig_nbformat": 4,
  "vscode": {
   "interpreter": {
    "hash": "647f9984bcb5530cf62b5d156708033196a740eee563f03b2d170d8f0eb6f794"
   }
  }
 },
 "nbformat": 4,
 "nbformat_minor": 2
}
