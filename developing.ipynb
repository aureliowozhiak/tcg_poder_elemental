{
 "cells": [
  {
   "cell_type": "code",
   "execution_count": 1,
   "metadata": {},
   "outputs": [],
   "source": [
    "from src.model.field import modelField\n",
    "from src.view.field import viewField\n",
    "modelField = modelField()\n",
    "viewField = viewField()"
   ]
  },
  {
   "cell_type": "code",
   "execution_count": 2,
   "metadata": {},
   "outputs": [
    {
     "name": "stdout",
     "output_type": "stream",
     "text": [
      "side_a             \n",
      "discard_zone: ['']             \n",
      "boost_zone: ['']             \n",
      "creatures_zone: ['', '', '']\n",
      "side_b             \n",
      "discard_zone: ['']             \n",
      "boost_zone: ['']             \n",
      "creatures_zone: ['', '', '']\n"
     ]
    }
   ],
   "source": [
    "field = modelField.return_all_field_parameters()\n",
    "print(viewField.show_field(field = field, side = 'side_a'))\n",
    "print(viewField.show_field(field = field, side = 'side_b'))"
   ]
  },
  {
   "cell_type": "code",
   "execution_count": 3,
   "metadata": {},
   "outputs": [],
   "source": [
    "modelField.put_card_in_field(side = 'side_a', zone = 'discard_zone', card_id = \"outra\")"
   ]
  },
  {
   "cell_type": "code",
   "execution_count": 4,
   "metadata": {},
   "outputs": [
    {
     "name": "stdout",
     "output_type": "stream",
     "text": [
      "side_a             \n",
      "discard_zone: ['outra']             \n",
      "boost_zone: ['']             \n",
      "creatures_zone: ['', '', '']\n",
      "side_b             \n",
      "discard_zone: ['']             \n",
      "boost_zone: ['']             \n",
      "creatures_zone: ['', '', '']\n"
     ]
    }
   ],
   "source": [
    "print(viewField.show_field(field = field, side = 'side_a'))\n",
    "print(viewField.show_field(field = field, side = 'side_b'))"
   ]
  }
 ],
 "metadata": {
  "kernelspec": {
   "display_name": "Python 3.10.8 64-bit (microsoft store)",
   "language": "python",
   "name": "python3"
  },
  "language_info": {
   "codemirror_mode": {
    "name": "ipython",
    "version": 3
   },
   "file_extension": ".py",
   "mimetype": "text/x-python",
   "name": "python",
   "nbconvert_exporter": "python",
   "pygments_lexer": "ipython3",
   "version": "3.10.8"
  },
  "orig_nbformat": 4,
  "vscode": {
   "interpreter": {
    "hash": "647f9984bcb5530cf62b5d156708033196a740eee563f03b2d170d8f0eb6f794"
   }
  }
 },
 "nbformat": 4,
 "nbformat_minor": 2
}
