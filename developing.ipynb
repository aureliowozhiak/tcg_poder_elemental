{
 "cells": [
  {
   "cell_type": "code",
   "execution_count": 1,
   "metadata": {},
   "outputs": [],
   "source": [
    "from src.model.field import ModelField\n",
    "from src.view.field import viewField\n",
    "from src.model.db_init import DbInit\n",
    "\n",
    "modelField = ModelField()\n",
    "\n",
    "dbInit = DbInit()\n",
    "uuid_game = modelField.add_field_on_db()\n"
   ]
  },
  {
   "cell_type": "code",
   "execution_count": 12,
   "metadata": {},
   "outputs": [
    {
     "data": {
      "text/plain": [
       "{'side_a': {'deck_zone': '[]',\n",
       "  'discard_zone': '[]',\n",
       "  'boost_zone': '[]',\n",
       "  'creatures_zone': '[]',\n",
       "  'magic_zone': '[2,]',\n",
       "  'hand_zone': '[]'},\n",
       " 'side_b': {'deck_zone': '[]',\n",
       "  'discard_zone': '[]',\n",
       "  'boost_zone': '[]',\n",
       "  'creatures_zone': '[]',\n",
       "  'magic_zone': '[]',\n",
       "  'hand_zone': '[]'}}"
      ]
     },
     "execution_count": 12,
     "metadata": {},
     "output_type": "execute_result"
    }
   ],
   "source": [
    "result = modelField.get_field_from_db(uuid_game)\n",
    "modelField.replace_field(modelField.recreate_field_from_db(result))\n",
    "modelField.return_all_field_parameters()"
   ]
  },
  {
   "cell_type": "code",
   "execution_count": 11,
   "metadata": {},
   "outputs": [],
   "source": [
    "modelField.remove_card_in_field('side_a', 'magic_zone', '1,')\n",
    "modelField.update_field_on_db(uuid_game)\n"
   ]
  },
  {
   "cell_type": "code",
   "execution_count": 5,
   "metadata": {},
   "outputs": [
    {
     "data": {
      "text/plain": [
       "{'side_a': {'deck_zone': '[]',\n",
       "  'discard_zone': '[]',\n",
       "  'boost_zone': '[]',\n",
       "  'creatures_zone': '[]',\n",
       "  'magic_zone': '[1,2]',\n",
       "  'hand_zone': '[]'},\n",
       " 'side_b': {'deck_zone': '[]',\n",
       "  'discard_zone': '[]',\n",
       "  'boost_zone': '[]',\n",
       "  'creatures_zone': '[]',\n",
       "  'magic_zone': '[]',\n",
       "  'hand_zone': '[]'}}"
      ]
     },
     "execution_count": 5,
     "metadata": {},
     "output_type": "execute_result"
    }
   ],
   "source": [
    "modelField.return_all_field_parameters()"
   ]
  },
  {
   "cell_type": "code",
   "execution_count": 7,
   "metadata": {},
   "outputs": [],
   "source": []
  },
  {
   "cell_type": "code",
   "execution_count": 31,
   "metadata": {},
   "outputs": [
    {
     "data": {
      "text/plain": [
       "{'zones': {'deck_zone': '[]',\n",
       "  'discard_zone': '[]',\n",
       "  'boost_zone': '[]',\n",
       "  'creatures_zone': '[]',\n",
       "  'magic_zone': '[]',\n",
       "  'hand_zone': '[]'}}"
      ]
     },
     "execution_count": 31,
     "metadata": {},
     "output_type": "execute_result"
    }
   ],
   "source": []
  },
  {
   "cell_type": "code",
   "execution_count": 3,
   "metadata": {},
   "outputs": [],
   "source": [
    "from src.model.execute_sql_queries import ExcuteSqlQueries"
   ]
  }
 ],
 "metadata": {
  "kernelspec": {
   "display_name": "Python 3.10.8 64-bit (microsoft store)",
   "language": "python",
   "name": "python3"
  },
  "language_info": {
   "codemirror_mode": {
    "name": "ipython",
    "version": 3
   },
   "file_extension": ".py",
   "mimetype": "text/x-python",
   "name": "python",
   "nbconvert_exporter": "python",
   "pygments_lexer": "ipython3",
   "version": "3.10.8"
  },
  "orig_nbformat": 4,
  "vscode": {
   "interpreter": {
    "hash": "647f9984bcb5530cf62b5d156708033196a740eee563f03b2d170d8f0eb6f794"
   }
  }
 },
 "nbformat": 4,
 "nbformat_minor": 2
}
